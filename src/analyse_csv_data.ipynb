{
 "cells": [
  {
   "cell_type": "markdown",
   "metadata": {},
   "source": [
    "# Machine Learning in Chess to Study Patterns in Chess Games"
   ]
  },
  {
   "cell_type": "markdown",
   "metadata": {},
   "source": [
    "## Import Libraries"
   ]
  },
  {
   "cell_type": "code",
   "execution_count": 10,
   "metadata": {},
   "outputs": [],
   "source": [
    "import pandas as pd\n",
    "import dask.dataframe as dd\n"
   ]
  },
  {
   "cell_type": "markdown",
   "metadata": {},
   "source": [
    "## Load the Data"
   ]
  },
  {
   "cell_type": "code",
   "execution_count": 4,
   "metadata": {},
   "outputs": [
    {
     "name": "stdout",
     "output_type": "stream",
     "text": [
      "Loaded 63927025 Rated Bullet, Rated Blitz, and Rated Rapid games from 2022.\n",
      "\n"
     ]
    },
    {
     "data": {
      "text/html": [
       "<div><strong>Dask DataFrame Structure:</strong></div>\n",
       "<div>\n",
       "<style scoped>\n",
       "    .dataframe tbody tr th:only-of-type {\n",
       "        vertical-align: middle;\n",
       "    }\n",
       "\n",
       "    .dataframe tbody tr th {\n",
       "        vertical-align: top;\n",
       "    }\n",
       "\n",
       "    .dataframe thead th {\n",
       "        text-align: right;\n",
       "    }\n",
       "</style>\n",
       "<table border=\"1\" class=\"dataframe\">\n",
       "  <thead>\n",
       "    <tr style=\"text-align: right;\">\n",
       "      <th></th>\n",
       "      <th>UTCDate</th>\n",
       "      <th>UTCTime</th>\n",
       "      <th>Event</th>\n",
       "      <th>TimeControl</th>\n",
       "      <th>Result</th>\n",
       "      <th>Termination</th>\n",
       "      <th>ECO</th>\n",
       "      <th>Opening</th>\n",
       "      <th>White</th>\n",
       "      <th>Black</th>\n",
       "      <th>WhiteElo</th>\n",
       "      <th>BlackElo</th>\n",
       "      <th>Site</th>\n",
       "    </tr>\n",
       "    <tr>\n",
       "      <th>npartitions=153</th>\n",
       "      <th></th>\n",
       "      <th></th>\n",
       "      <th></th>\n",
       "      <th></th>\n",
       "      <th></th>\n",
       "      <th></th>\n",
       "      <th></th>\n",
       "      <th></th>\n",
       "      <th></th>\n",
       "      <th></th>\n",
       "      <th></th>\n",
       "      <th></th>\n",
       "      <th></th>\n",
       "    </tr>\n",
       "  </thead>\n",
       "  <tbody>\n",
       "    <tr>\n",
       "      <th></th>\n",
       "      <td>object</td>\n",
       "      <td>object</td>\n",
       "      <td>object</td>\n",
       "      <td>object</td>\n",
       "      <td>object</td>\n",
       "      <td>object</td>\n",
       "      <td>object</td>\n",
       "      <td>object</td>\n",
       "      <td>object</td>\n",
       "      <td>object</td>\n",
       "      <td>int64</td>\n",
       "      <td>int64</td>\n",
       "      <td>object</td>\n",
       "    </tr>\n",
       "    <tr>\n",
       "      <th></th>\n",
       "      <td>...</td>\n",
       "      <td>...</td>\n",
       "      <td>...</td>\n",
       "      <td>...</td>\n",
       "      <td>...</td>\n",
       "      <td>...</td>\n",
       "      <td>...</td>\n",
       "      <td>...</td>\n",
       "      <td>...</td>\n",
       "      <td>...</td>\n",
       "      <td>...</td>\n",
       "      <td>...</td>\n",
       "      <td>...</td>\n",
       "    </tr>\n",
       "    <tr>\n",
       "      <th>...</th>\n",
       "      <td>...</td>\n",
       "      <td>...</td>\n",
       "      <td>...</td>\n",
       "      <td>...</td>\n",
       "      <td>...</td>\n",
       "      <td>...</td>\n",
       "      <td>...</td>\n",
       "      <td>...</td>\n",
       "      <td>...</td>\n",
       "      <td>...</td>\n",
       "      <td>...</td>\n",
       "      <td>...</td>\n",
       "      <td>...</td>\n",
       "    </tr>\n",
       "    <tr>\n",
       "      <th></th>\n",
       "      <td>...</td>\n",
       "      <td>...</td>\n",
       "      <td>...</td>\n",
       "      <td>...</td>\n",
       "      <td>...</td>\n",
       "      <td>...</td>\n",
       "      <td>...</td>\n",
       "      <td>...</td>\n",
       "      <td>...</td>\n",
       "      <td>...</td>\n",
       "      <td>...</td>\n",
       "      <td>...</td>\n",
       "      <td>...</td>\n",
       "    </tr>\n",
       "    <tr>\n",
       "      <th></th>\n",
       "      <td>...</td>\n",
       "      <td>...</td>\n",
       "      <td>...</td>\n",
       "      <td>...</td>\n",
       "      <td>...</td>\n",
       "      <td>...</td>\n",
       "      <td>...</td>\n",
       "      <td>...</td>\n",
       "      <td>...</td>\n",
       "      <td>...</td>\n",
       "      <td>...</td>\n",
       "      <td>...</td>\n",
       "      <td>...</td>\n",
       "    </tr>\n",
       "  </tbody>\n",
       "</table>\n",
       "</div>\n",
       "<div>Dask Name: read-parquet, 1 graph layer</div>"
      ],
      "text/plain": [
       "Dask DataFrame Structure:\n",
       "                UTCDate UTCTime   Event TimeControl  Result Termination     ECO Opening   White   Black WhiteElo BlackElo    Site\n",
       "npartitions=153                                                                                                                  \n",
       "                 object  object  object      object  object      object  object  object  object  object    int64    int64  object\n",
       "                    ...     ...     ...         ...     ...         ...     ...     ...     ...     ...      ...      ...     ...\n",
       "...                 ...     ...     ...         ...     ...         ...     ...     ...     ...     ...      ...      ...     ...\n",
       "                    ...     ...     ...         ...     ...         ...     ...     ...     ...     ...      ...      ...     ...\n",
       "                    ...     ...     ...         ...     ...         ...     ...     ...     ...     ...      ...      ...     ...\n",
       "Dask Name: read-parquet, 1 graph layer"
      ]
     },
     "metadata": {},
     "output_type": "display_data"
    },
    {
     "data": {
      "text/html": [
       "<div>\n",
       "<style scoped>\n",
       "    .dataframe tbody tr th:only-of-type {\n",
       "        vertical-align: middle;\n",
       "    }\n",
       "\n",
       "    .dataframe tbody tr th {\n",
       "        vertical-align: top;\n",
       "    }\n",
       "\n",
       "    .dataframe thead th {\n",
       "        text-align: right;\n",
       "    }\n",
       "</style>\n",
       "<table border=\"1\" class=\"dataframe\">\n",
       "  <thead>\n",
       "    <tr style=\"text-align: right;\">\n",
       "      <th></th>\n",
       "      <th>UTCDate</th>\n",
       "      <th>UTCTime</th>\n",
       "      <th>Event</th>\n",
       "      <th>TimeControl</th>\n",
       "      <th>Result</th>\n",
       "      <th>Termination</th>\n",
       "      <th>ECO</th>\n",
       "      <th>Opening</th>\n",
       "      <th>White</th>\n",
       "      <th>Black</th>\n",
       "      <th>WhiteElo</th>\n",
       "      <th>BlackElo</th>\n",
       "      <th>Site</th>\n",
       "    </tr>\n",
       "  </thead>\n",
       "  <tbody>\n",
       "    <tr>\n",
       "      <th>0</th>\n",
       "      <td>2022.01.01</td>\n",
       "      <td>00:00:11</td>\n",
       "      <td>Rated Bullet game</td>\n",
       "      <td>120+1</td>\n",
       "      <td>0-1</td>\n",
       "      <td>Normal</td>\n",
       "      <td>D02</td>\n",
       "      <td>Queen's Pawn Game: Chigorin Variation</td>\n",
       "      <td>Kike73</td>\n",
       "      <td>Aox066</td>\n",
       "      <td>1255</td>\n",
       "      <td>1252</td>\n",
       "      <td>https://lichess.org/BPNsj2LF</td>\n",
       "    </tr>\n",
       "    <tr>\n",
       "      <th>1</th>\n",
       "      <td>2022.01.01</td>\n",
       "      <td>00:00:11</td>\n",
       "      <td>Rated Bullet game</td>\n",
       "      <td>120+1</td>\n",
       "      <td>1-0</td>\n",
       "      <td>Normal</td>\n",
       "      <td>C40</td>\n",
       "      <td>King's Pawn Game: Busch-Gass Gambit</td>\n",
       "      <td>schachueli</td>\n",
       "      <td>HiddenEyes</td>\n",
       "      <td>1346</td>\n",
       "      <td>1308</td>\n",
       "      <td>https://lichess.org/ooDjyGrm</td>\n",
       "    </tr>\n",
       "    <tr>\n",
       "      <th>2</th>\n",
       "      <td>2022.01.01</td>\n",
       "      <td>00:00:11</td>\n",
       "      <td>Rated Bullet game</td>\n",
       "      <td>120+1</td>\n",
       "      <td>0-1</td>\n",
       "      <td>Time forfeit</td>\n",
       "      <td>C02</td>\n",
       "      <td>French Defense: Advance Variation, Nimzowitsch...</td>\n",
       "      <td>Renf7</td>\n",
       "      <td>Euphorbe92</td>\n",
       "      <td>859</td>\n",
       "      <td>964</td>\n",
       "      <td>https://lichess.org/T4TIdZZM</td>\n",
       "    </tr>\n",
       "    <tr>\n",
       "      <th>3</th>\n",
       "      <td>2022.01.01</td>\n",
       "      <td>00:00:11</td>\n",
       "      <td>Rated Bullet game</td>\n",
       "      <td>120+1</td>\n",
       "      <td>0-1</td>\n",
       "      <td>Time forfeit</td>\n",
       "      <td>B10</td>\n",
       "      <td>Caro-Kann Defense: Accelerated Panov Attack</td>\n",
       "      <td>Ralza63</td>\n",
       "      <td>FN2718</td>\n",
       "      <td>1769</td>\n",
       "      <td>1702</td>\n",
       "      <td>https://lichess.org/Oz5OFohi</td>\n",
       "    </tr>\n",
       "    <tr>\n",
       "      <th>4</th>\n",
       "      <td>2022.01.01</td>\n",
       "      <td>00:00:11</td>\n",
       "      <td>Rated Bullet game</td>\n",
       "      <td>120+1</td>\n",
       "      <td>1-0</td>\n",
       "      <td>Time forfeit</td>\n",
       "      <td>A41</td>\n",
       "      <td>Queen's Pawn Game</td>\n",
       "      <td>arkchess1963</td>\n",
       "      <td>sirkkeli</td>\n",
       "      <td>2146</td>\n",
       "      <td>2196</td>\n",
       "      <td>https://lichess.org/iehbAAzy</td>\n",
       "    </tr>\n",
       "  </tbody>\n",
       "</table>\n",
       "</div>"
      ],
      "text/plain": [
       "      UTCDate   UTCTime              Event TimeControl Result   Termination  \\\n",
       "0  2022.01.01  00:00:11  Rated Bullet game       120+1    0-1        Normal   \n",
       "1  2022.01.01  00:00:11  Rated Bullet game       120+1    1-0        Normal   \n",
       "2  2022.01.01  00:00:11  Rated Bullet game       120+1    0-1  Time forfeit   \n",
       "3  2022.01.01  00:00:11  Rated Bullet game       120+1    0-1  Time forfeit   \n",
       "4  2022.01.01  00:00:11  Rated Bullet game       120+1    1-0  Time forfeit   \n",
       "\n",
       "   ECO                                            Opening         White  \\\n",
       "0  D02              Queen's Pawn Game: Chigorin Variation        Kike73   \n",
       "1  C40                King's Pawn Game: Busch-Gass Gambit    schachueli   \n",
       "2  C02  French Defense: Advance Variation, Nimzowitsch...         Renf7   \n",
       "3  B10        Caro-Kann Defense: Accelerated Panov Attack       Ralza63   \n",
       "4  A41                                  Queen's Pawn Game  arkchess1963   \n",
       "\n",
       "        Black  WhiteElo  BlackElo                          Site  \n",
       "0      Aox066      1255      1252  https://lichess.org/BPNsj2LF  \n",
       "1  HiddenEyes      1346      1308  https://lichess.org/ooDjyGrm  \n",
       "2  Euphorbe92       859       964  https://lichess.org/T4TIdZZM  \n",
       "3      FN2718      1769      1702  https://lichess.org/Oz5OFohi  \n",
       "4    sirkkeli      2146      2196  https://lichess.org/iehbAAzy  "
      ]
     },
     "metadata": {},
     "output_type": "display_data"
    }
   ],
   "source": [
    "DATA_PATH = \"/Users/isaac/Downloads/ChessDBs/lichess_db_standard_rated_2022.parquet\"\n",
    "# Check whether the DataFrame has been loaded correctly.\n",
    "df = dd.read_parquet(DATA_PATH)\n",
    "print(f\"Loaded {len(df)} Rated Bullet, Rated Blitz, and Rated Rapid games from 2022.\\n\")\n",
    "display(df)\n",
    "display(df.head())\n"
   ]
  },
  {
   "cell_type": "markdown",
   "metadata": {},
   "source": [
    "## Get Most Popular Openings"
   ]
  },
  {
   "cell_type": "code",
   "execution_count": 5,
   "metadata": {},
   "outputs": [
    {
     "data": {
      "text/plain": [
       "Modern Defense                                                     1643325\n",
       "Queen's Pawn Game                                                  1636105\n",
       "Scandinavian Defense: Mieses-Kotroc Variation                      1400483\n",
       "Caro-Kann Defense                                                  1231717\n",
       "Philidor Defense                                                   1154531\n",
       "                                                                    ...   \n",
       "Queen's Gambit Accepted: Alekhine Defense, Alatortsev Variation          1\n",
       "King's Gambit Accepted: Bishop's Gambit, Chigorin's Attack               1\n",
       "Italian Game: Evans Gambit, Göring Attack                                1\n",
       "Ruy Lopez: Open, Bernstein Variation, Luther Line                        1\n",
       "Vienna Game: Stanley Variation, Eifel Gambit                             1\n",
       "Name: Opening, Length: 2997, dtype: int64"
      ]
     },
     "metadata": {},
     "output_type": "display_data"
    }
   ],
   "source": [
    "display(df[\"Opening\"].value_counts().compute())"
   ]
  },
  {
   "cell_type": "markdown",
   "metadata": {},
   "source": [
    "## Get Most Popular Opening Categories"
   ]
  },
  {
   "cell_type": "code",
   "execution_count": 6,
   "metadata": {},
   "outputs": [
    {
     "data": {
      "text/plain": [
       "A00    3951040\n",
       "A40    3527282\n",
       "B01    3384668\n",
       "D00    2822607\n",
       "B00    2794027\n",
       "        ...   \n",
       "A79         53\n",
       "D68         49\n",
       "E96         24\n",
       "D65         15\n",
       "D99          1\n",
       "Name: ECO, Length: 497, dtype: int64"
      ]
     },
     "metadata": {},
     "output_type": "display_data"
    }
   ],
   "source": [
    "display(df[\"ECO\"].value_counts().compute())"
   ]
  },
  {
   "cell_type": "markdown",
   "metadata": {},
   "source": [
    "## Get Elo Distribution of Players"
   ]
  },
  {
   "cell_type": "code",
   "execution_count": 14,
   "metadata": {},
   "outputs": [
    {
     "data": {
      "text/plain": [
       "1500    446870\n",
       "1743    130036\n",
       "1732    129679\n",
       "1735    128645\n",
       "1725    129228\n",
       "         ...  \n",
       "3280         1\n",
       "3267         1\n",
       "3240         1\n",
       "3290         1\n",
       "3485         1\n",
       "Length: 2721, dtype: int64"
      ]
     },
     "metadata": {},
     "output_type": "display_data"
    }
   ],
   "source": [
    "white_elo_count = df[\"WhiteElo\"].value_counts().compute()\n",
    "black_elo_count = df[\"BlackElo\"].value_counts().compute()\n",
    "# Merge the counts into one, as the player's side isn't important.\n",
    "elo_count = pd.concat([white_elo_count, black_elo_count], axis=1).fillna(0).astype(int)\n",
    "elo_count = elo_count.sum(axis=1)\n",
    "display(elo_count)\n"
   ]
  }
 ],
 "metadata": {
  "kernelspec": {
   "display_name": "Python 3 (ipykernel)",
   "language": "python",
   "name": "python3"
  },
  "language_info": {
   "codemirror_mode": {
    "name": "ipython",
    "version": 3
   },
   "file_extension": ".py",
   "mimetype": "text/x-python",
   "name": "python",
   "nbconvert_exporter": "python",
   "pygments_lexer": "ipython3",
   "version": "3.10.10"
  },
  "vscode": {
   "interpreter": {
    "hash": "949777d72b0d2535278d3dc13498b2535136f6dfe0678499012e853ee9abcab1"
   }
  }
 },
 "nbformat": 4,
 "nbformat_minor": 4
}
